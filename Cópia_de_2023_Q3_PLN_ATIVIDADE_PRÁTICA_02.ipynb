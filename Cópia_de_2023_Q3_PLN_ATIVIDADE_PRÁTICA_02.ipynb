{
  "nbformat": 4,
  "nbformat_minor": 0,
  "metadata": {
    "colab": {
      "provenance": [],
      "collapsed_sections": [
        "D7hJlilKM485"
      ]
    },
    "kernelspec": {
      "name": "python3",
      "display_name": "Python 3"
    }
  },
  "cells": [
    {
      "cell_type": "markdown",
      "metadata": {
        "id": "Y6QILOdpOjwv"
      },
      "source": [
        "# **Processamento de Linguagem Natural [2023.Q3]**\n",
        "Prof. Alexandre Donizeti Alves"
      ]
    },
    {
      "cell_type": "markdown",
      "metadata": {
        "id": "8m67OOx9MX_3"
      },
      "source": [
        "### **ATIVIDADE PRÁTICA 02 [Extração e Pré-processamento de Dados + Expressões Regulares]**\n"
      ]
    },
    {
      "cell_type": "markdown",
      "metadata": {
        "id": "5Gk0nHKabBT-"
      },
      "source": [
        "A **ATIVIDADE PRÁTICA 02** deve ser feita utilizando o **Google Colab** com uma conta\n",
        "sua vinculada ao Gmail. O link do seu notebook, armazenado no Google Drive, além do link de um repositório no GitHub e os principais resultados da atividade, devem ser enviados usando o seguinte formulário:\n",
        "\n",
        "> https://forms.gle/83JggUJ1mhgWviEaA\n",
        "\n",
        "\n",
        "**IMPORTANTE**: A submissão deve ser feita até o dia 20/10 (sexta-feira) APENAS POR UM INTEGRANTE DA EQUIPE, até às 23h59. Por favor, lembre-se de dar permissão de ACESSO IRRESTRITO para o professor da disciplina de PLN."
      ]
    },
    {
      "cell_type": "markdown",
      "metadata": {
        "id": "D7hJlilKM485"
      },
      "source": [
        "### **EQUIPE**\n",
        "\n",
        "---"
      ]
    },
    {
      "cell_type": "markdown",
      "source": [
        "**POR FAVOR, PREENCHER OS INTEGRANDES DA SUA EQUIPE:**\n",
        "\n",
        "\n",
        "**Integrante 01:**\n",
        "\n",
        "`Por favor, informe o seu nome completo e RA:` Leonardo Galan Guerra - 11202130382\n",
        "\n",
        "**Integrante 02:**\n",
        "\n",
        "`Por favor, informe o seu nome completo e RA:`\n",
        "\n",
        "**Integrante 03:**\n",
        "\n",
        "`Por favor, informe o seu nome completo e RA:`"
      ],
      "metadata": {
        "id": "tnIArN0QY-Ek"
      }
    },
    {
      "cell_type": "markdown",
      "source": [
        "### **LIVRO**\n",
        "---"
      ],
      "metadata": {
        "id": "6yExhaebs-nD"
      }
    },
    {
      "cell_type": "markdown",
      "source": [
        "`Processamento de Linguagem Natural - Conceitos, Técnicas e Aplicações em Português.`\n",
        "\n",
        ">\n",
        "\n",
        "Disponível gratuitamente em:\n",
        "  \n",
        "  > https://brasileiraspln.com/livro-pln/1a-edicao/.\n",
        "\n",
        "\n",
        "**POR FAVOR, PREENCHER OS CAPITULOS SELECIONADOS PARA A SUA EQUIPE:**\n",
        "\n",
        "`Segundo capítulo:` https://brasileiraspln.com/livro-pln/1a-edicao/parte2/cap2/cap2.html\n",
        "\n",
        "`Vigésimo-terceiro capítulo:` https://brasileiraspln.com/livro-pln/1a-edicao/parte9/cap23/cap23.html\n",
        "\n"
      ],
      "metadata": {
        "id": "DjJM_qhEZRy6"
      }
    },
    {
      "cell_type": "markdown",
      "metadata": {
        "id": "EtjgWQRzNphL"
      },
      "source": [
        "### **DESCRIÇÃO**\n",
        "---"
      ]
    },
    {
      "cell_type": "markdown",
      "source": [
        "Implementar um `notebook` no `Google Colab` para identificar ERROS em 2 (DOIS) capítulos do livro **Processamento de Linguagem Natural - Conceitos, Técnicas e Aplicações em Português**.\n",
        "\n",
        "Os capítulos devem ser selecionados na seguinte planilha:\n",
        "\n",
        "https://docs.google.com/spreadsheets/d/1ZutzQ3v1OJgsgzCvCwxXlRIQ3ChXNlHNvB63JQvYsbo/edit?usp=sharing\n",
        "\n",
        ">\n",
        "\n",
        "**IMPORTANTE:** É obrigatório usar o e-mail da UFABC.\n",
        "\n",
        ">\n",
        "\n",
        "\n",
        "**DICA:** Por favor, insira o seu nome ou da sua equipe na ordem definida na planilha. Por exemplo, se a linha correspondente ao o GRUPO 5 já foi preenchida, a próxima equipe (GRUPO 6) deverá ser informada na próxima linha da planilha.\n",
        "\n"
      ],
      "metadata": {
        "id": "fXTwkiiGs2BV"
      }
    },
    {
      "cell_type": "markdown",
      "source": [
        "### **TIPOS DE ERROS**\n",
        "---\n"
      ],
      "metadata": {
        "id": "eD_AJQhrwJQ6"
      }
    },
    {
      "cell_type": "markdown",
      "source": [
        "**IMPORTANTE**: consulta feita no ChatGPT\n",
        ">\n",
        "\n",
        "Um `programa Python` que utilize `expressões regulares` pode ajudar a identificar vários **tipos de erros** comuns em **livros**, especialmente erros de formatação e problemas relacionados à consistência do texto. Aqui estão alguns exemplos de erros comuns que podem ser identificados usando expressões regulares:\n",
        "\n",
        "* Erros de gramática e ortografia: erros de digitação, concordância verbal e nominal, uso incorreto de pontuação e outros erros gramaticais.\n",
        "\n",
        "* Problemas de formatação: você pode usar expressões regulares para encontrar erros de formatação, como espaços em excesso, tabulações inadequadas ou alinhamentos inconsistentes.\n",
        "\n",
        "* Abreviações e acrônimos: você pode usar expressões regulares para encontrar abreviações ou acrônimos que não foram definidos ou explicados anteriormente no texto.\n",
        "\n",
        "* Citações e referências: expressões regulares podem ser úteis para localizar citações ou referências que precisam de formatação especial.\n",
        "\n",
        "* OUTROS TIPOS DE ERROS: não considerem apenas os tipos de erros citados acima.\n",
        "\n",
        "\n",
        "**IMPORTANTE:** Lembre-se de que expressões regulares podem ser poderosas, mas também complexas. Dependendo da complexidade dos erros que você deseja identificar, pode ser necessário ajustar as expressões regulares de acordo com as características específicas do seu texto. Além disso, é importante ter em mente que as expressões regulares podem não ser a melhor ferramenta para todos os tipos de erros em livros, especialmente problemas mais contextuais ou semânticos, que podem exigir abordagens de PLN mais avançadas.\n",
        "\n",
        "\n",
        "\n"
      ],
      "metadata": {
        "id": "gz0DTI0KYmn6"
      }
    },
    {
      "cell_type": "markdown",
      "source": [
        "### **CRITÉRIOS DE AVALIAÇÃO**\n",
        "---\n"
      ],
      "metadata": {
        "id": "gWsBYQNtxmum"
      }
    },
    {
      "cell_type": "markdown",
      "source": [
        "A equipe que **realizar mais testes** e/ou **identificar mais erros** terá o peso diminuido na AVALIAÇÃO (Prova Escrita) em **25%** (caindo de 40 para 30). Os testes e possíveis erros devem ser contabizados de maneira separada.\n",
        "\n",
        ">\n",
        "\n",
        "Além disso, **por se tratar de um livro**, há um teste importante que deve ser feito. Lembre-se que o teste deve ser feito utilizando expressões regulares. A equipe que realizar esse teste, mesmo que o erro não ocorra nos capítulos selecionados, terá o peso diminuido na AVALIAÇÃO (Prova Escrita) em **25%** (caindo de 40 para 30).\n",
        "\n",
        "> A equipe pode considerar outros capítulos do livro para tentar identificar esse tipo de erro.\n",
        "\n",
        "**Se for a mesma equipe, o peso da avaliação será reduzido em 50% (caindo de 40 para 20)**.\n",
        "\n",
        ">\n",
        "\n",
        "**IMPORTANTE**: a diminuição no peso da AVALIAÇÃO será aplicado para todos os membros da equipe. Esse critério será aplicado apenas para uma equipe, considerando como critério de desempate a equipe que entregar primeiro a atividade no formulário.\n",
        "\n",
        "\n",
        "\n"
      ],
      "metadata": {
        "id": "5iHdx4BXYruQ"
      }
    },
    {
      "cell_type": "markdown",
      "source": [
        "### **IMPLEMENTAÇÃO**\n",
        "---"
      ],
      "metadata": {
        "id": "nw09lujGvfjc"
      }
    },
    {
      "cell_type": "code",
      "source": [
        "# por favor, inserir o código a partir daqui...\n",
        "import requests\n",
        "import re\n",
        "\n",
        "def verificar_erros_capitulo(url, abreviacoes_conhecidas=None):\n",
        "    expressao_regular_formatacao = r'\\s{2,}|\\t' # encontrar erros na formatação, ou seja, espaços em branco consecutivos.\n",
        "    expressao_regular_abreviacoes = r'\\b[A-Z]{2,}\\b' if abreviacoes_conhecidas is None else r'\\b(?!(?:' + '|'.join(abreviacoes_conhecidas) + r'))[A-Z]{2,}\\b' # encontrar erros nas abreviações, ou seja, sem explicação.\n",
        "    expressao_regular_pontuacao = r'[.,;:!?\\s]$' # encontrar erros em pontuações no final de palavras.\n",
        "    expressao_regular_encadeamento = r'\\w+\\s*\\-\\s*$' # encontrar erros no encadeamento de palavras, ou seja, palavras seguidas corretamente de hífens.\n",
        "    expressao_regular_datas = r'\\b\\d{1,2}/\\d{1,2}/\\d{4}\\b' # encontrar erros na formatação de datas, ou seja, data/mes/ano\n",
        "    expressao_regular_listas = r'^(?:\\d+\\.|[-\\*\\•])\\s+\\w' # encontrar erros na formatação de listas.\n",
        "    expressao_regular_legendas_imagens = r'<img\\s[^>]*\\stitle=[\"\\'](.*?)[\"\\']' # encontrar erros na formatação de legendas em imagens.\n",
        "    expressao_regular_url = r'(https?://[^\\s/$.?#].[^\\s]*)' # encontrar erros na formatação de urls.\n",
        "    expressao_regular_maiusculas_excessivas = r'\\b[A-Z]{3,}\\b' # encontrar erros na utilização excessiva de palavras maiúsculas.\n",
        "    expressao_regular_repeticoes_de_letras = r'\\b\\w*(.)\\1{2,}\\w*\\b' # encontrar erros na repetição de letras.\n",
        "\n",
        "    response = requests.get(url)\n",
        "    if response.status_code != 200:\n",
        "        print(f\"Erro na {url}.\")\n",
        "        return\n",
        "\n",
        "    conteudo = response.text\n",
        "\n",
        "    #encontrar as correspondências das expressões regulares criadas acima com o conteúdo, ou seja, os links dos capítulos 2 e 23.\n",
        "    correspondencias_formatacao = re.findall(expressao_regular_formatacao, conteudo)\n",
        "    correspondencias_abreviacoes = re.findall(expressao_regular_abreviacoes, conteudo)\n",
        "    correspondencias_pontuacao = re.findall(expressao_regular_pontuacao, conteudo)\n",
        "    correspondencias_encadeamento = re.findall(expressao_regular_encadeamento, conteudo)\n",
        "    correspondencias_datas = re.findall(expressao_regular_datas, conteudo)\n",
        "    correspondencias_listas = re.findall(expressao_regular_listas, conteudo, re.MULTILINE)\n",
        "    correspondencias_legendas_imagens = re.findall(expressao_regular_legendas_imagens, conteudo)\n",
        "    correspondencias_urls = re.findall(expressao_regular_url, conteudo)\n",
        "    correspondencias_maiusculas_excessivas = re.findall(expressao_regular_maiusculas_excessivas, conteudo)\n",
        "    correspondencias_repeticoes_de_letras = re.findall(expressao_regular_repeticoes_de_letras, conteudo)\n",
        "\n",
        "    #contar o número de erros desejados em cada capítulo.\n",
        "    numero_erros_formatacao = len(correspondencias_formatacao)\n",
        "    numero_erros_abreviacoes = len(correspondencias_abreviacoes)\n",
        "    numero_erros_pontuacao = len(correspondencias_pontuacao)\n",
        "    numero_erros_encadeamento = len(correspondencias_encadeamento)\n",
        "    numero_erros_datas = len(correspondencias_datas)\n",
        "    numero_erros_listas = len(correspondencias_listas)\n",
        "    numero_problemas_legendas_imagens = len(correspondencias_legendas_imagens)\n",
        "    numero_erros_urls = 0\n",
        "    for url in correspondencias_urls:\n",
        "        if not url.startswith(\"http://\") and not url.startswith(\"https://\"):\n",
        "            numero_erros_urls += 1\n",
        "    numero_maiusculas_excessivas = len(correspondencias_maiusculas_excessivas)\n",
        "    numero_repeticoes_de_letras = len(correspondencias_repeticoes_de_letras)\n",
        "\n",
        "    if abreviacoes_conhecidas is not None:\n",
        "        abreviacoes_nao_definidas = [palavra for palavra in correspondencias_abreviacoes if palavra not in abreviacoes_conhecidas]\n",
        "        total_abreviacoes_nao_definidas = len(abreviacoes_nao_definidas)\n",
        "    else:\n",
        "        abreviacoes_nao_definidas = []\n",
        "        total_abreviacoes_nao_definidas = 0\n",
        "\n",
        "    return (numero_erros_formatacao, total_abreviacoes_nao_definidas, numero_erros_abreviacoes,\n",
        "            numero_erros_pontuacao, numero_erros_encadeamento, numero_erros_datas,\n",
        "            numero_erros_listas, numero_problemas_legendas_imagens, numero_erros_urls,\n",
        "            numero_maiusculas_excessivas, numero_repeticoes_de_letras)\n",
        "\n",
        "#cria manualmente uma lista de abreviacoes que possuem explicação no capítulo 2 e 23.\n",
        "abreviacoes_conhecidas = [\"NLP\", \"PLN\", \"IA\", \"HTML\", \"PDF\", \"AAR\", \"CAR\", \"AES\", \"AEE\", \"XML\", \"PEG\", \"LIWC\", \"SVM\", \"HTMM\", \"HMM\", \"ETS\", \"TOEFL\", \"GRE\", \"RI\", \"DF\", \"BoW\", \"TF-IDF\", \"BIM\", \"BM\", \"MRR\", \"NDCG\", \"TREC\", \"CLEF\", \"REGIS\", \"MS MARCO\", \"AQM\", \"AM\", \"OLID\", \"AP\", \"AC\", \"LIWC\", \"CRF\", \"CNNs\", \"RNNs\", \"CAD\", \"ASR\", \"DFT\", \"FFT\", \"AM\", \"LM\", \"HMM\", \"CTC\", \"BPE\", \"OOV\", \"INT\", \"WER\", \"SER\", \"TTS\", \"MOS\"]\n",
        "\n",
        "capitulo2 = \"https://brasileiraspln.com/livro-pln/1a-edicao/parte2/cap2/cap2.html\"\n",
        "capitulo23 = \"https://brasileiraspln.com/livro-pln/1a-edicao/parte9/cap23/cap23.html\"\n",
        "\n",
        "(total_erros_capitulo2, total_abreviacoes_nao_definidas_capitulo2, total_erros_abreviacoes_capitulo2, total_erros_pontuacao_capitulo2, total_erros_encadeamento_capitulo2, total_erros_datas_capitulo2, total_erros_listas_capitulo2, total_problemas_legendas_imagens_capitulo2, total_erros_urls_capitulo2, total_erros_maiusculas_excessivas_capitulo2, total_erros_repeticoes_de_letras_capitulo2) = verificar_erros_capitulo(capitulo2, abreviacoes_conhecidas)\n",
        "\n",
        "(total_erros_capitulo23, total_abreviacoes_nao_definidas_capitulo23, total_erros_abreviacoes_capitulo23, total_erros_pontuacao_capitulo23, total_erros_encadeamento_capitulo23, total_erros_datas_capitulo23, total_erros_listas_capitulo23, total_problemas_legendas_imagens_capitulo23, total_erros_urls_capitulo23, total_erros_maiusculas_excessivas_capitulo23, total_erros_repeticoes_de_letras_capitulo23) = verificar_erros_capitulo(capitulo23, abreviacoes_conhecidas)\n",
        "\n",
        "total_erros_capitulo2_total = (\n",
        "    total_erros_capitulo2 + total_abreviacoes_nao_definidas_capitulo2 + total_erros_pontuacao_capitulo2 +\n",
        "    total_erros_encadeamento_capitulo2 + total_erros_datas_capitulo2 + total_erros_listas_capitulo2 +\n",
        "    total_problemas_legendas_imagens_capitulo2 + total_erros_urls_capitulo2 + total_erros_maiusculas_excessivas_capitulo2 + total_erros_repeticoes_de_letras_capitulo2\n",
        ")\n",
        "\n",
        "total_erros_capitulo23_total = (\n",
        "    total_erros_capitulo23 + total_abreviacoes_nao_definidas_capitulo23 + total_erros_pontuacao_capitulo23 +\n",
        "    total_erros_encadeamento_capitulo23 + total_erros_datas_capitulo23 + total_erros_listas_capitulo23 +\n",
        "    total_problemas_legendas_imagens_capitulo23 + total_erros_urls_capitulo23 + total_erros_maiusculas_excessivas_capitulo23 + total_erros_repeticoes_de_letras_capitulo23\n",
        ")\n",
        "\n",
        "print(f\"Total de erros de formatação no Capítulo 2: {total_erros_capitulo2}\")\n",
        "print(f\"Total de erros de formatação no Capítulo 23: {total_erros_capitulo23}\")\n",
        "\n",
        "if total_abreviacoes_nao_definidas_capitulo2:\n",
        "    print(f\"Abreviações não definidas no Capítulo 2: {total_abreviacoes_nao_definidas_capitulo2}\")\n",
        "\n",
        "if total_abreviacoes_nao_definidas_capitulo23:\n",
        "    print(f\"Abreviações não definidas no Capítulo 23: {total_abreviacoes_nao_definidas_capitulo23}\")\n",
        "\n",
        "print(f\"Total de erros de pontuação no Capítulo 2: {total_erros_pontuacao_capitulo2}\")\n",
        "print(f\"Total de erros de pontuação no Capítulo 23: {total_erros_pontuacao_capitulo23}\")\n",
        "\n",
        "print(f\"Total de erros de encadeamento de palavras no Capítulo 2: {total_erros_encadeamento_capitulo2}\")\n",
        "print(f\"Total de erros de encadeamento de palavras no Capítulo 23: {total_erros_encadeamento_capitulo23}\")\n",
        "\n",
        "print(f\"Total de erros de formatação de datas no Capítulo 2: {total_erros_datas_capitulo2}\")\n",
        "print(f\"Total de erros de formatação de datas no Capítulo 23: {total_erros_datas_capitulo23}\")\n",
        "\n",
        "print(f\"Total de erros de listas ou enumerações no Capítulo 2: {total_erros_listas_capitulo2}\")\n",
        "print(f\"Total de erros de listas ou enumerações no Capítulo 23: {total_erros_listas_capitulo23}\")\n",
        "\n",
        "print(f\"Total de problemas de legendas de imagens no Capítulo 2: {total_problemas_legendas_imagens_capitulo2}\")\n",
        "print(f\"Total de problemas de legendas de imagens no Capítulo 23: {total_problemas_legendas_imagens_capitulo23}\")\n",
        "\n",
        "print(f\"Total de erros de formatação de URLs no Capítulo 2: {total_erros_urls_capitulo2}\")\n",
        "print(f\"Total de erros de formatação de URLs no Capítulo 23: {total_erros_urls_capitulo23}\")\n",
        "\n",
        "print(f\"Total de erros de maiúsculas excessivas no Capítulo 2: {total_erros_maiusculas_excessivas_capitulo2}\")\n",
        "print(f\"Total de erros de maiúsculas excessivas no Capítulo 23: {total_erros_maiusculas_excessivas_capitulo23}\")\n",
        "\n",
        "print(f\"Total de erros de repetições de letras no Capítulo 2: {total_erros_repeticoes_de_letras_capitulo2}\")\n",
        "print(f\"Total de erros de repetições de letras no Capítulo 23: {total_erros_repeticoes_de_letras_capitulo23}\")\n",
        "\n",
        "print(f\" \")\n",
        "\n",
        "print(f\"Total de todos os erros no Capítulo 2: {total_erros_capitulo2_total}\")\n",
        "print(f\"Total de todos os erros no Capítulo 23: {total_erros_capitulo23_total}\")\n"
      ],
      "metadata": {
        "id": "SU7Dg9Yz7vLY",
        "colab": {
          "base_uri": "https://localhost:8080/"
        },
        "outputId": "ebefe935-25e8-467e-d415-d29563dde3da"
      },
      "execution_count": 100,
      "outputs": [
        {
          "output_type": "stream",
          "name": "stdout",
          "text": [
            "Total de erros de formatação no Capítulo 2: 683\n",
            "Total de erros de formatação no Capítulo 23: 664\n",
            "Abreviações não definidas no Capítulo 2: 81\n",
            "Abreviações não definidas no Capítulo 23: 279\n",
            "Total de erros de pontuação no Capítulo 2: 0\n",
            "Total de erros de pontuação no Capítulo 23: 0\n",
            "Total de erros de encadeamento de palavras no Capítulo 2: 0\n",
            "Total de erros de encadeamento de palavras no Capítulo 23: 0\n",
            "Total de erros de formatação de datas no Capítulo 2: 2\n",
            "Total de erros de formatação de datas no Capítulo 23: 1\n",
            "Total de erros de listas ou enumerações no Capítulo 2: 0\n",
            "Total de erros de listas ou enumerações no Capítulo 23: 0\n",
            "Total de problemas de legendas de imagens no Capítulo 2: 0\n",
            "Total de problemas de legendas de imagens no Capítulo 23: 0\n",
            "Total de erros de formatação de URLs no Capítulo 2: 0\n",
            "Total de erros de formatação de URLs no Capítulo 23: 0\n",
            "Total de erros de maiúsculas excessivas no Capítulo 2: 144\n",
            "Total de erros de maiúsculas excessivas no Capítulo 23: 288\n",
            "Total de erros de repetições de letras no Capítulo 2: 22\n",
            "Total de erros de repetições de letras no Capítulo 23: 43\n",
            " \n",
            "Total de todos os erros no Capítulo 2: 932\n",
            "Total de todos os erros no Capítulo 23: 1275\n"
          ]
        }
      ]
    },
    {
      "cell_type": "code",
      "source": [],
      "metadata": {
        "id": "JZOyYscvdOnr"
      },
      "execution_count": null,
      "outputs": []
    }
  ]
}